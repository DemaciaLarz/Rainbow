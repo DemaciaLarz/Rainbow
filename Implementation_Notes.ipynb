{
 "cells": [
  {
   "cell_type": "markdown",
   "metadata": {},
   "source": [
    "# Implementation notes\n",
    "\n",
    "Below follows further descriptions, as well as some comments and thoughts upon questions that came up upon the attempt to implement each and one of these algorithms.\n",
    "\n",
    "1. Double DQN\n",
    "2. Prioritized experience replay DQN\n",
    "3. Dueling DQN\n",
    "4. Multi-step learning\n",
    "5. c51 / Distributional DQN"
   ]
  },
  {
   "cell_type": "code",
   "execution_count": 1,
   "metadata": {},
   "outputs": [
    {
     "name": "stderr",
     "output_type": "stream",
     "text": [
      "/usr/lib/python3/dist-packages/h5py/__init__.py:36: FutureWarning: Conversion of the second argument of issubdtype from `float` to `np.floating` is deprecated. In future, it will be treated as `np.float64 == np.dtype(float).type`.\n",
      "  from ._conv import register_converters as _register_converters\n"
     ]
    }
   ],
   "source": [
    "import numpy as np\n",
    "import matplotlib.pyplot as plt\n",
    "import seaborn as sns\n",
    "import math\n",
    "\n",
    "import tensorflow as tf\n",
    "\n",
    "from tensorflow.keras import Model\n",
    "from tensorflow.keras.layers import Input, Dense, Lambda\n",
    "from tensorflow.keras import backend as K"
   ]
  },
  {
   "cell_type": "markdown",
   "metadata": {},
   "source": [
    "## 1 - Double DQN\n",
    "\n",
    "**Description**\n",
    "\n",
    "They show that Q learning can suffer from over optimistic estimations of the value function. The idea of Double DQN is to decompose the max operation in the target into action selection and action evaluation. The proposition is to evaluate the greedy policy according to the online network, but using the target network to estimate its value. The parameter update of the online network is the same as for DQN, with the target term $Y_{t}^{DQN}$ replaced with:\n",
    "\n",
    "$$Y_{t}^{DoubleDQN} = R_{t+1} + \\gamma Q(S_{t+1}, \\underset{a}{\\mathrm{argmax}}Q(S_{t+1}, a, \\theta),\\hat{\\theta})$$\n",
    "\n",
    "Where $\\theta$ are the parameters of the online network to be updated online, and where $\\hat{\\theta}$ are the parameters of the target network and is a mere periodic copy of its online equivalent.\n",
    "\n",
    "Note that there implementation-wise are no further additions to the DQN setup beyond the target term $Y_{t}^{DoubleDQN}$.\n",
    "\n",
    "**Type of implementation wrt to DQN**\n",
    "\n",
    "By an additional estimation of action values, and,\n",
    "by adjusting the target term."
   ]
  },
  {
   "cell_type": "markdown",
   "metadata": {},
   "source": [
    "## 2 - Prioritized experience replay DQN\n",
    "\n",
    "**Description**\n",
    "\n",
    "Prioritized replay is a method that can make learning from experience more efficient. The key idea is that an agent can learn more effectively from some transitions than from others. One would prefer to sample more prioritized and relevant transitions than to simply sample them uniformly. This is what prioritized replay allows for.\n",
    "\n",
    "In the paper they discuss the TD error, or the magnitude of a transitions TD error $\\delta$, as a measure on how surprising or unexpected a transition is. However, due to a number of issues they instead introduce a stochastic sampling method that interpolates between pure greedy prioritization and uniform random sampling. Finally, due to a bias that arises in the sampling distribution, they introduce an importance sampling in order to correct that.\n",
    "\n",
    "Conceptualizing this comes quite natural, but implementing can not be said to be as natural..\n",
    "\n",
    "**Steps of implementation**\n",
    "\n",
    "1. Sample an action.\n",
    "2. Obtain experience tuple from environment.\n",
    "3. Store transition in a sum tree as per its priority.\n",
    "4. Sample a batch of transitions from the sum tree as per their priorities\n",
    "5. Estimate gradients and update parameters, importance sampling weight is included.\n",
    "6. Update priorities with their new TD errors.\n",
    "\n",
    "**Type of implementation wrt DQN**\n",
    "\n",
    "* Implementation of Prioritized Replay includes a multiple of methods from a couple of classes.\n",
    "* Implementation in article is built upon DQN + Double DQN."
   ]
  },
  {
   "cell_type": "markdown",
   "metadata": {},
   "source": [
    "## 3 - Dueling DQN\n",
    "\n",
    "**Description**\n",
    "\n",
    "The key insight is that for many states, it is unnecessary to estimate each of the state action values. The dueling contribution is in the form of a network and not as some additional algorithmic steps.\n",
    "\n",
    "Basically the upper part of the DQN network is divided into two separate streams of fully connected layers. These streams have separate parameters $\\alpha, \\beta$ and the first one outputs a scalar which is an estimate of the state value function $V(s, \\theta, \\alpha)$, where $\\theta$ are the parameters of the bottom convolutional layers. The second stream outputs a vector with a length of the total number of actions $|A|$, and this represent the advantage function $A(s, a, \\theta, \\beta)$.\n",
    "\n",
    "On top of these two stream outputs there is a module (a custom layer?), here the action values are computed based on the state value and the differences between respective advantage value and the mean of all the advantage values.\n",
    "\n",
    "$$Q(s, a, \\theta, \\alpha, \\beta) = V(s, \\theta, \\alpha) + (, A(s, a, \\theta, \\beta)-\\frac{1}{|A|}\\sum_{a' \\epsilon |A|} A(s, a', \\theta, \\beta) ),$$\n",
    "\n",
    "The output from all of this is then a vector, a vector of action values $Q(s, a, \\theta, \\alpha, \\beta)$.\n",
    "\n",
    "The subtracting mean operation does not change the relative rank of the $A$, hence while acting it is only necessary to evaluate the advantage stream.\n",
    "\n",
    "**Type of implementation**\n",
    "\n",
    "* Implementation comes in the form of a network architecture.\n",
    "* Implementation in the article is built upon Double DQN + Double DQN + both of the memory replays.\n",
    "\n",
    "**Initial thoughts on network architecture**"
   ]
  },
  {
   "cell_type": "code",
   "execution_count": 3,
   "metadata": {},
   "outputs": [
    {
     "name": "stdout",
     "output_type": "stream",
     "text": [
      "WARNING:tensorflow:From /usr/lib/python3/dist-packages/tensorflow_core/python/ops/resource_variable_ops.py:1630: calling BaseResourceVariable.__init__ (from tensorflow.python.ops.resource_variable_ops) with constraint is deprecated and will be removed in a future version.\n",
      "Instructions for updating:\n",
      "If using Keras pass *_constraint arguments to layers.\n",
      "Model: \"model\"\n",
      "__________________________________________________________________________________________________\n",
      "Layer (type)                    Output Shape         Param #     Connected to                     \n",
      "==================================================================================================\n",
      "input_1 (InputLayer)            [(None, 2)]          0                                            \n",
      "__________________________________________________________________________________________________\n",
      "theta_1 (Dense)                 (None, 20)           60          input_1[0][0]                    \n",
      "__________________________________________________________________________________________________\n",
      "theta_2 (Dense)                 (None, 20)           420         theta_1[0][0]                    \n",
      "__________________________________________________________________________________________________\n",
      "theta_3 (Dense)                 (None, 20)           420         theta_2[0][0]                    \n",
      "__________________________________________________________________________________________________\n",
      "alpha_1 (Dense)                 (None, 10)           210         theta_3[0][0]                    \n",
      "__________________________________________________________________________________________________\n",
      "beta_1 (Dense)                  (None, 10)           210         theta_3[0][0]                    \n",
      "__________________________________________________________________________________________________\n",
      "alpha_out (Dense)               (None, 1)            11          alpha_1[0][0]                    \n",
      "__________________________________________________________________________________________________\n",
      "beta_out (Dense)                (None, 2)            22          beta_1[0][0]                     \n",
      "__________________________________________________________________________________________________\n",
      "lambda (Lambda)                 (2, 2)               0           alpha_out[0][0]                  \n",
      "                                                                 beta_out[0][0]                   \n",
      "==================================================================================================\n",
      "Total params: 1,353\n",
      "Trainable params: 1,353\n",
      "Non-trainable params: 0\n",
      "__________________________________________________________________________________________________\n"
     ]
    }
   ],
   "source": [
    "def subtract_mean(args, action_space, batchsize):\n",
    "    v = args[0]\n",
    "    A = args[1]\n",
    "    A_mean = tf.math.reduce_mean(A)\n",
    "    A_sub_mean = tf.math.subtract(A, A_mean)\n",
    "    V = tf.broadcast_to(v, [batchsize, action_space])\n",
    "    Q = tf.math.add(V, A_sub_mean)\n",
    "    return Q\n",
    "\n",
    "def dueling(batchsize=2, input_shape=(2,), action_space=2):\n",
    "    # Bottom layers\n",
    "    inputs = Input(shape=input_shape)\n",
    "    x = Dense(20, activation='relu', name='theta_1')(inputs)\n",
    "    x = Dense(20, activation='relu', name='theta_2')(x)\n",
    "    x = Dense(20, activation='relu', name='theta_3')(x)\n",
    "    # Value stream\n",
    "    v = Dense(10, activation='relu', name='alpha_1')(x)\n",
    "    v = Dense(1, activation='linear', name='alpha_out')(v)\n",
    "    # Advantage stream\n",
    "    a = Dense(10, activation='relu', name='beta_1')(x)\n",
    "    a = Dense(action_space, activation='linear', name='beta_out')(a)\n",
    "    # Network output\n",
    "    outputs = Lambda(subtract_mean, arguments={\n",
    "        'action_space': action_space, 'batchsize': batchsize})([v, a])\n",
    "    Model(inputs, outputs).summary()\n",
    "\n",
    "dueling()"
   ]
  },
  {
   "cell_type": "markdown",
   "metadata": {},
   "source": [
    "## 4 - n-step Q learning\n",
    "\n",
    "**Description**\n",
    "\n",
    "Consider the space in between one step TD bootstrapping on the one hand, and the Monte Carlo methods with episodic updates on the other. This is where the n-step bootstrapping methods lie. Benefit is that it might be favorable to bootstrap over more steps than one in order to capture potential state changes, meanwhile not being subjected to the hastiness of the single step.\n",
    "\n",
    "Basically it goes like this: instead of estimating some value $V(s_t)$ based on a discounted estimation of the value of the next step $\\gamma V(s_{t + 1})$ (bootstrapping), consider estimating the value $V(s_t)$ based on an estimated value, or return $G$, from $n$-steps. First of all we want to define that return $G$:\n",
    "\n",
    "$$G^{(n)}{t:t+n} = R{t+1} + \\gamma R_{t+2} + ... + \\gamma^{n-1}R_{t+n} + \\gamma^n V_{t+n-1}(S_{t+n})$$\n",
    "\n",
    "This is to be understood as such, that in order to obtain the truncated return of timestep $t$, from $t$ to $t+n$ steps, one sums up the discounted rewards from the $n$-step window and complement that in the end by adding the discounted value from the final step. This final step value represents the expected value from all the future steps as usual. In practical terms, this obviously means that one has to visit all these states in the $n$-step window in order to gain access to the rewards.\n",
    "\n",
    "Easily transfered into a context of control, an update rule for action values can then be:\n",
    "\n",
    "$$Q_{t+n}(S_t, A_t) = Q_{t+n-1}(S_t, A_t) + \\alpha[G_{t:t+n} + Q_{t+n-1}(S_t, A_t)]$$\n",
    "\n",
    "**Question marks**\n",
    "\n",
    "There are quite a few blurs, at least when it comes to implementing it in a DQN context. We can act in the environment and generate transitions as usual and store them in the memory, no problem. But what about the training step? Here are some current thoughts on this:\n",
    "\n",
    "Say that we have a batch of 1 to start with and that $n = 5$, lets break down what we need in order to make that update. We will need to sample $n$ transitions from the memory in order to populate the $n$-step sequence.\n",
    "\n",
    "* Question: Can we sample these $n$ samples freely from the replay buffer? Can there be a variance from the full memory? Or do we need to restrict our samples to some segments of more nearby neighbors?\n",
    "\n",
    "Say that we are successful in obtaining our $n$ samples representing an ordered $n$-step sequence of transitions. From here we can compute the return $G^{(n)}_t$ by simply adding up the discounted rewards in the sequence.\n",
    "\n",
    "* Question: Is it enough to just add them up. What about the final term in the sequence, the value representing future expected values? I'm leaning towards just adding up the discounted terms and thats that, see Rainbow article equation (2).\n",
    "\n",
    "When we have the return $G^{(n)}t$, it seems like we want to estimate target values given the state $S{t+n}$ such that the target value is: $\\max_{a'}Q(S_{t+n}, a')$. Furthermore, values to put up against the target seem to be $Q(S_t, A_t)$. Hence the $n$-step procedure takes the values from state $S_t$, and the targets from state $S_{t+n}$. Obviously there are separate parameters and all that but this should provide us with what we need.\n",
    "\n",
    "* Question: What about training time? Well, even though we sample $n$ transitions for each entry in the batch of size batchsize, all we really need to use them for is to iterate over their collected rewards. Then we use the front and the back to estimate values, but thats 2 propagations total just as usual. Then its the training step. So all good at least on this point it seems.\n",
    "\n",
    "What remains is the procedure with the replay buffer. Lets start with applying n-steps with experience replay, since it is a lot easier to adjust sampling window there compared to the prioritized replay. Although the Rainbow implementation makes use of the n-step and the prioritized replay so that is kind of where we need to end up."
   ]
  },
  {
   "cell_type": "markdown",
   "metadata": {},
   "source": [
    "## 5 - Distributional RL - C51\n",
    "\n",
    "**Description**\n",
    "\n",
    "Basic idea is, why only learn to estimate expectations of action values, that is scalar values, when one can learn to estimate distributions of action values.\n",
    "\n",
    "Consider the random return $Z$ whose expected value is $Q$. This random return can be expressed in an iterative manner such that:\n",
    "\n",
    "$$Z(s, a) = R(s, a) + \\gamma Z(s^{`}, a^{`})$$\n",
    "\n",
    "We bootstrap the approximation of a distribution of action values given a specific state action pair, based on the approximation of a distribution given the next state action pair.\n",
    "\n",
    "Roughly the procedure can described as follows:\n",
    "\n",
    "1. Sample a transition and approximate the distribution $Z(s^{`}, a^{`})$. (that should entail that we put $(s^{`}, a^{`})$ into our 'value distribution approximator' aka neural network which one can assume outputs the approximated distributions for us. But we get to this later.) We will under any circumstance call this distribution $Z(s^{`}, a^{`})$.\n",
    "2. Scale $Z(s^{`}, a^{`})$ by multiplying it with the discount factor $\\gamma$.\n",
    "3. Shift it by adding the reward.\n",
    "4. Then project the modified target distribution onto the current one and in order to minimize the loss we run a crossentropy on both of those distributions. $cross entropy(Ypred=Z(s, a), Ytrue=Z(s^{`}, a^{`}))$.\n",
    "\n",
    "**What we know so far**\n",
    "\n",
    "* We have a function approximator $f$ that maps from state action pairs to distributions such that: $f: S \\times A \\to Z$. Question is how we represent Z.\n",
    "* In the paper they describe a discrete distribution parameterized by $N \\in \\mathbb{N}$ and $V_{min}, V_{max} \\in \\mathbb{R}$ which should be understood as $N$ being the number of categories the support is divided into. The other parameters merely set their interval distances over the interval. The support then is the set of atoms that comes out of it, see paper for the exact set.\n",
    "* The atom probabilities are then given by the parameterized model $\\theta : S \\times A \\to \\mathbb{R}^N$. In other words, our neural network, parameterized by its weights generates a logit output over N neurons. The probabilities of this is then obtained by applying a softmax layer. Cool. This is the $Z(s, a)$. We can do that, now to the question on how to manipulate it and compute the distributional TD error.\n",
    "* Update to that: apparently the network outputs a distribution for each available action. That means a set of atoms outputs for each action. So if we have num_actions=3, and num_atoms=10, you have 3 separate dense layers with 10 nodes each, and a softmax activation on each of these. yea. I think we can assume that $N$ is num_atoms...\n",
    "\n",
    "**Seems we can split it up into these components**\n",
    "\n",
    "1. The network\n",
    "2. Constructing the distributional TD error / target\n",
    "3. Distribute probabilities and project distribution\n",
    "4. Comparing distributions $Z(s, a)$ and $Z(s^{`}, a^{`})$ and minimizing the loss\n",
    "5. Having the policy sampling an actual action"
   ]
  },
  {
   "cell_type": "markdown",
   "metadata": {},
   "source": [
    "#### 1: The network"
   ]
  },
  {
   "cell_type": "code",
   "execution_count": 23,
   "metadata": {},
   "outputs": [
    {
     "name": "stdout",
     "output_type": "stream",
     "text": [
      "Model: \"model_4\"\n",
      "__________________________________________________________________________________________________\n",
      "Layer (type)                    Output Shape         Param #     Connected to                     \n",
      "==================================================================================================\n",
      "input_5 (InputLayer)            [(None, 2)]          0                                            \n",
      "__________________________________________________________________________________________________\n",
      "bottom_1 (Dense)                (None, 20)           60          input_5[0][0]                    \n",
      "__________________________________________________________________________________________________\n",
      "bottom_2 (Dense)                (None, 20)           420         bottom_1[0][0]                   \n",
      "__________________________________________________________________________________________________\n",
      "action_0 (Dense)                (None, 5)            105         bottom_2[0][0]                   \n",
      "__________________________________________________________________________________________________\n",
      "action_1 (Dense)                (None, 5)            105         bottom_2[0][0]                   \n",
      "==================================================================================================\n",
      "Total params: 690\n",
      "Trainable params: 690\n",
      "Non-trainable params: 0\n",
      "__________________________________________________________________________________________________\n",
      "output type: <class 'list'>\n",
      "output len: 2\n",
      "shape output[i]: (1, 5)\n"
     ]
    }
   ],
   "source": [
    "num_actions = 2\n",
    "num_atoms = 5\n",
    "\n",
    "def C51(num_actions, num_atoms):\n",
    "    # Bottom layers\n",
    "    inputs = Input(shape=(2,))\n",
    "    x = Dense(20, activation='relu', name='bottom_1')(inputs)\n",
    "    x = Dense(20, activation='relu', name='bottom_2')(x)\n",
    "    # Top layers\n",
    "    distribution_list = []\n",
    "    for i in range(num_actions):\n",
    "        distribution_list.append(Dense(num_atoms, activation='softmax', name='action_' + str(i))(x))\n",
    "    model = Model(inputs, distribution_list)\n",
    "    model.summary()\n",
    "    output = model.predict(np.ones((1, 2)))\n",
    "    return output\n",
    "output = C51(num_actions, num_atoms)\n",
    "print('output type:', type(output))\n",
    "print('output len:', len(output))\n",
    "print('shape output[i]:', output[0].shape)"
   ]
  },
  {
   "cell_type": "markdown",
   "metadata": {},
   "source": [
    "#### 2: Constructing the distributional TD error / target\n",
    "\n",
    "First of all, lets generate a test distribution of $Z$ given parameters $N$, $V_{min}$ and $V_{max}$. This is to be considered as what is sampled from memory and it is untouched at this point. We will use this later down below. "
   ]
  },
  {
   "cell_type": "code",
   "execution_count": 43,
   "metadata": {},
   "outputs": [
    {
     "data": {
      "image/png": "[encoded data removed]",
      "text/plain": [
       "<Figure size 432x144 with 1 Axes>"
      ]
     },
     "metadata": {},
     "output_type": "display_data"
    }
   ],
   "source": [
    "N = num_atoms = 11\n",
    "v_min = -4\n",
    "v_max = 4\n",
    "delta_z = (v_max - v_min) / (N - 1)\n",
    "atoms = [v_min + i * delta_z for i in range(N)] # or one can use np.linspace\n",
    "# build some useful functions\n",
    "def probabilities(N):\n",
    "    '''Returns base probabilities given an array of size N'''\n",
    "    if N % 2 == 0:\n",
    "        probs = [i for i in range(1, N // 2 + 1)]\n",
    "        probs.extend(probs[::-1])\n",
    "        probs = probs / np.sum(probs)\n",
    "    else:\n",
    "        probs = [i for i in range(1, N // 2 + 1)]\n",
    "        probs.extend(probs[::-1])\n",
    "        probs.insert(N // 2, N // 2 + 1)\n",
    "        probs = probs / np.sum((probs))\n",
    "    return probs\n",
    "\n",
    "def plot_distribution(atoms, probs=False, title=''):\n",
    "    if type(probs) == bool:\n",
    "        probs = [0.1 for _ in range(len(atoms))]\n",
    "        linewidth = [15., 10.]\n",
    "    else:\n",
    "        linewidth = [15., 10.]\n",
    "    sns.set_style('dark')\n",
    "    plt.figure(figsize=(6, 2))\n",
    "    plt.suptitle(title)\n",
    "    for i, atom in enumerate(atoms):\n",
    "        plt.axvline(x=atom, ymax=probs[i], linewidth=linewidth[0], color='k')\n",
    "        plt.axvline(x=atom, ymax=probs[i], linewidth=linewidth[1], color='orange')\n",
    "    x_ticks = list(atoms)\n",
    "    x_ticks.insert(0, -5)\n",
    "    x_ticks.append(5)\n",
    "    plt.xticks(x_ticks, rotation=45)\n",
    "    plt.xlabel('atoms')\n",
    "    plt.ylabel('probabilities')\n",
    "    plt.show()\n",
    "\n",
    "# set it in action    \n",
    "probs = probabilities(N)\n",
    "plot_distribution(atoms, probs, title='Z(s´, a´)')"
   ]
  },
  {
   "cell_type": "markdown",
   "metadata": {},
   "source": [
    "#### 3:  Distribute probabilities and project distribution\n",
    "\n",
    "We can see how nicely the density of the target distribution is distributed onto the support of the current distribution. What happens from here is to take the cross entropy loss between the green curve and the yellow curve.\n",
    "\n",
    "It took a while to make these curves happen, for the record."
   ]
  },
  {
   "cell_type": "code",
   "execution_count": 47,
   "metadata": {},
   "outputs": [
    {
     "name": "stdout",
     "output_type": "stream",
     "text": [
      "m_l: [3, 4, 4, 5, 5, 6, 6, 7, 7, 8, 8]\n",
      "m_u: [4, 5, 5, 6, 6, 7, 7, 8, 8, 9, 9]\n",
      "sum probs: 1.0000000000000002\n",
      "sum m_probs: 0.9999999999999999\n"
     ]
    },
    {
     "data": {
      "image/png": "[encoded data removed]",
      "text/plain": [
       "<Figure size 432x288 with 1 Axes>"
      ]
     },
     "metadata": {},
     "output_type": "display_data"
    }
   ],
   "source": [
    "B = [(t_z - v_min) / delta_z for t_z in T_Z]\n",
    "m_l = []\n",
    "m_u = []\n",
    "for b in B:\n",
    "    m_l.append(math.floor(b))\n",
    "    m_u.append(math.ceil(b))\n",
    "print('m_l:', m_l)\n",
    "print('m_u:', m_u)\n",
    "\n",
    "m_probs = np.zeros((N))\n",
    "for i, p in enumerate(probs):\n",
    "    m_probs[m_l[i]] += p * (m_u[i] - B[i])\n",
    "    m_probs[m_u[i]] += p * (B[i] - m_l[i])\n",
    "\n",
    "print('sum probs:', sum(probs))\n",
    "print('sum m_probs:', sum(m_probs))\n",
    "\n",
    "plt.plot(probs, 'g', label='probs: Z(s, a)')\n",
    "plt.plot(m_probs, 'y', label='m_probs: projected Z(s´, a´)')\n",
    "plt.xlabel('N')\n",
    "plt.yticks([])\n",
    "plt.legend(loc='upper center', frameon=False, ncol=3)\n",
    "plt.show()"
   ]
  },
  {
   "cell_type": "markdown",
   "metadata": {},
   "source": [
    "Here we see the current distribution and the target distribution (not projected yet). "
   ]
  },
  {
   "cell_type": "code",
   "execution_count": 48,
   "metadata": {},
   "outputs": [
    {
     "data": {
      "image/png": "[encoded data removed]",
      "text/plain": [
       "<Figure size 432x144 with 1 Axes>"
      ]
     },
     "metadata": {},
     "output_type": "display_data"
    },
    {
     "data": {
      "image/png": "[encoded data removed]",
      "text/plain": [
       "<Figure size 432x144 with 1 Axes>"
      ]
     },
     "metadata": {},
     "output_type": "display_data"
    }
   ],
   "source": [
    "plot_distribution(atoms, probs, title='probs: Z(s, a)')\n",
    "plot_distribution(T_Z, m_probs, title='m_probs: Z(s{`}, a{`})')"
   ]
  },
  {
   "cell_type": "markdown",
   "metadata": {},
   "source": [
    "#### 4: Comparing distributions $Z(s, a)$ and $Z(s^{`}, a^{`})$ and minimizing the loss\n",
    "\n",
    "This is done simply by passing these distributions into a cross entropy loss function."
   ]
  },
  {
   "cell_type": "markdown",
   "metadata": {},
   "source": [
    "#### 5: Sampling an action\n",
    "\n",
    "It seems to go down like this:\n",
    "1. take the expected value of each of the action value distributions, lets call that $Q(S, a)$.\n",
    "2. In order to pick an action we simply apply an argmax as usual."
   ]
  }
 ],
 "metadata": {
  "kernelspec": {
   "display_name": "Python 3",
   "language": "python",
   "name": "python3"
  },
  "language_info": {
   "codemirror_mode": {
    "name": "ipython",
    "version": 3
   },
   "file_extension": ".py",
   "mimetype": "text/x-python",
   "name": "python",
   "nbconvert_exporter": "python",
   "pygments_lexer": "ipython3",
   "version": "3.6.9"
  }
 },
 "nbformat": 4,
 "nbformat_minor": 2
}
